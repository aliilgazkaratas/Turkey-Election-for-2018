{
 "cells": [
  {
   "cell_type": "code",
   "execution_count": 2,
   "id": "5c043325",
   "metadata": {},
   "outputs": [],
   "source": [
    "import pandas as pd\n",
    "import matplotlib.pyplot as plt"
   ]
  },
  {
   "cell_type": "code",
   "execution_count": 3,
   "id": "5da7d384",
   "metadata": {},
   "outputs": [
    {
     "name": "stdout",
     "output_type": "stream",
     "text": [
      "   Piar (18-22 Haizran)  Mediar (12 Haziran)  REMRES (28 Mayıs - 3 Haziran)\n",
      "0                2464.0              2401.00                         4482.0\n",
      "1                  37.0                41.51                           40.0\n",
      "2                  23.4                26.27                           23.6\n",
      "3                  15.7                10.73                           15.2\n",
      "4                  14.1                12.12                           10.4\n",
      "5                   6.5                 5.81                            5.1\n",
      "6                   3.0                 2.25                            4.2\n",
      "7                   0.3                 1.31                            1.5\n"
     ]
    }
   ],
   "source": [
    "df = pd.read_excel(r\"C:\\Users\\ilgaz\\OneDrive\\Masaüstü\\Turkish Election\\Guessing.xlsx\")\n",
    "print(df)"
   ]
  },
  {
   "cell_type": "code",
   "execution_count": 4,
   "id": "ad05ba9e",
   "metadata": {},
   "outputs": [],
   "source": [
    "#Resource in documents\n",
    "column_names=df.columns =['Piar (18-22 Haziran)', 'Mediar (12 Haziran)','REMRES (28 Mayıs - 3 Haziran)']\n",
    "row_names=df.index = ['Katılımcı', 'AKP', 'CHP', 'İP','HDP','MHP','SP','Diğer']"
   ]
  },
  {
   "cell_type": "code",
   "execution_count": 5,
   "id": "784eb74b",
   "metadata": {
    "scrolled": true
   },
   "outputs": [
    {
     "name": "stdout",
     "output_type": "stream",
     "text": [
      "           Piar (18-22 Haziran)  Mediar (12 Haziran)  \\\n",
      "Katılımcı                2464.0              2401.00   \n",
      "AKP                        37.0                41.51   \n",
      "CHP                        23.4                26.27   \n",
      "İP                         15.7                10.73   \n",
      "HDP                        14.1                12.12   \n",
      "MHP                         6.5                 5.81   \n",
      "SP                          3.0                 2.25   \n",
      "Diğer                       0.3                 1.31   \n",
      "\n",
      "           REMRES (28 Mayıs - 3 Haziran)  \n",
      "Katılımcı                         4482.0  \n",
      "AKP                                 40.0  \n",
      "CHP                                 23.6  \n",
      "İP                                  15.2  \n",
      "HDP                                 10.4  \n",
      "MHP                                  5.1  \n",
      "SP                                   4.2  \n",
      "Diğer                                1.5  \n"
     ]
    }
   ],
   "source": [
    "print(df)"
   ]
  },
  {
   "cell_type": "code",
   "execution_count": 9,
   "id": "23e33cce",
   "metadata": {},
   "outputs": [
    {
     "name": "stdout",
     "output_type": "stream",
     "text": [
      "4482.0\n"
     ]
    }
   ],
   "source": [
    "print(df.iloc[0][column_names[2]])\n",
    "#Participations\n",
    "a=df.iloc[0][column_names[0]]\n",
    "b=df.iloc[0][column_names[1]]\n",
    "c=df.iloc[0][column_names[2]]\n",
    "global a,b,c\n"
   ]
  },
  {
   "cell_type": "code",
   "execution_count": 50,
   "id": "180426ca",
   "metadata": {},
   "outputs": [
    {
     "name": "stdout",
     "output_type": "stream",
     "text": [
      "AKP expected ratio is 39.597037552155776\n",
      "Percentage error is 6.961847856776848\n"
     ]
    }
   ],
   "source": [
    "#Expected value =∑ (value * probabilty of value)\n",
    "#AKP\n",
    "error_percentages=[]\n",
    "\n",
    "akp1=df.iloc[1][column_names[0]]\n",
    "akp2=df.iloc[1][column_names[1]]\n",
    "akp3=df.iloc[1][column_names[2]]\n",
    "\n",
    "def expected_value(participating,ratios):\n",
    "    return participating * (ratios / 100)\n",
    "ev_for_AKP=(expected_value(a,akp1)+expected_value(b,akp2)+expected_value(c,akp3))\n",
    "def true_prop(expected,population):\n",
    "    true_proportion=((population)*expected)/(a+b+c)\n",
    "    ratio=(true_proportion/(population))*100\n",
    "    return ratio\n",
    "ratio_of_party= true_prop(ev_for_AKP,82_000_000)\n",
    "    \n",
    "print(\"AKP expected ratio is {}\".format(ratio_of_party))\n",
    "\n",
    "measured_value = ratio_of_party\n",
    "def percentage_error(true_value):\n",
    "    return (abs(measured_value-true_value)/abs(true_value))*100\n",
    "errorr=percentage_error(42.56)                                          #\n",
    "print(\"Percentage error is {}\".format(errorr))\n",
    "error_percentages.append(str(errorr))"
   ]
  },
  {
   "cell_type": "code",
   "execution_count": 51,
   "id": "d1e01d72",
   "metadata": {},
   "outputs": [
    {
     "name": "stdout",
     "output_type": "stream",
     "text": [
      "CHP expected ratio is 24.23313041617632\n",
      "Percentage error is 7.036795124453704\n"
     ]
    }
   ],
   "source": [
    "#CHP\n",
    "chp1=df.iloc[2][column_names[0]]\n",
    "chp2=df.iloc[2][column_names[1]]\n",
    "chp3=df.iloc[2][column_names[2]]\n",
    "\n",
    "def expected_value(participating,ratios):\n",
    "    return participating * (ratios / 100)\n",
    "\n",
    "ev_for_CHP=(expected_value(a,chp1)+expected_value(b,chp2)+expected_value(c,chp3))\n",
    "\n",
    "def true_prop(expected,population):\n",
    "    true_proportion=((population)*expected)/(a+b+c)\n",
    "    ratio=(true_proportion/(population))*100\n",
    "    return ratio\n",
    "\n",
    "ratio_of_party= true_prop(ev_for_CHP,82_000_000)\n",
    "    \n",
    "print(\"CHP expected ratio is {}\".format(ratio_of_party))\n",
    "\n",
    "measured_value = ratio_of_party\n",
    "def percentage_error(true_value):\n",
    "    return (abs(measured_value-true_value)/abs(true_value))*100\n",
    "errorr=percentage_error(22.64)                                          #\n",
    "print(\"Percentage error is {}\".format(errorr))\n",
    "error_percentages.append(str(errorr))"
   ]
  },
  {
   "cell_type": "code",
   "execution_count": 52,
   "id": "9f2a94db",
   "metadata": {},
   "outputs": [
    {
     "name": "stdout",
     "output_type": "stream",
     "text": [
      "İP expected ratio is 14.18358082807318\n",
      "Percentage error is 21.227186564728047\n"
     ]
    }
   ],
   "source": [
    "#İP\n",
    "ip1=df.iloc[3][column_names[0]]\n",
    "ip2=df.iloc[3][column_names[1]]\n",
    "ip3=df.iloc[3][column_names[2]]\n",
    "\n",
    "def expected_value(participating,ratios):\n",
    "    return participating * (ratios / 100)\n",
    "\n",
    "ev_for_İP=(expected_value(a,ip1)+expected_value(b,ip2)+expected_value(c,ip3))\n",
    "\n",
    "def true_prop(expected,population):\n",
    "    true_proportion=((population)*expected)/(a+b+c)\n",
    "    ratio=(true_proportion/(population))*100\n",
    "    return ratio\n",
    "\n",
    "ratio_of_party= true_prop(ev_for_İP,82_000_000)\n",
    "    \n",
    "print(\"İP expected ratio is {}\".format(ratio_of_party))\n",
    "\n",
    "measured_value = ratio_of_party\n",
    "def percentage_error(true_value):\n",
    "    return (abs(measured_value-true_value)/abs(true_value))*100\n",
    "errorr=percentage_error(11.70)                                          #\n",
    "print(\"Percentage error is {}\".format(errorr))\n",
    "error_percentages.append(str(errorr))"
   ]
  },
  {
   "cell_type": "code",
   "execution_count": 53,
   "id": "67fa9f93",
   "metadata": {},
   "outputs": [
    {
     "name": "stdout",
     "output_type": "stream",
     "text": [
      "HDP expected ratio is 11.817194821867975\n",
      "Percentage error is 6.461214611423204\n"
     ]
    }
   ],
   "source": [
    "#HDP\n",
    "hdp1=df.iloc[4][column_names[0]]\n",
    "hdp2=df.iloc[4][column_names[1]]\n",
    "hdp3=df.iloc[4][column_names[2]]\n",
    "\n",
    "def expected_value(participating,ratios):\n",
    "    return participating * (ratios / 100)\n",
    "\n",
    "ev_for_HDP=(expected_value(a,hdp1)+expected_value(b,hdp2)+expected_value(c,hdp3))       #\n",
    "\n",
    "def true_prop(expected,population):\n",
    "    true_proportion=((population)*expected)/(a+b+c)\n",
    "    ratio=(true_proportion/(population))*100\n",
    "    return ratio\n",
    "\n",
    "ratio_of_party= true_prop(ev_for_HDP,82_000_000)          #\n",
    "    \n",
    "print(\"HDP expected ratio is {}\".format(ratio_of_party))              #\n",
    "\n",
    "measured_value = ratio_of_party\n",
    "def percentage_error(true_value):\n",
    "    return (abs(measured_value-true_value)/abs(true_value))*100\n",
    "errorr=percentage_error(11.10)                                          #\n",
    "print(\"Percentage error is {}\".format(errorr))\n",
    "error_percentages.append(str(errorr))"
   ]
  },
  {
   "cell_type": "code",
   "execution_count": 54,
   "id": "a6bd216e",
   "metadata": {},
   "outputs": [
    {
     "name": "stdout",
     "output_type": "stream",
     "text": [
      "MHP expected ratio is 5.651440034235584\n",
      "Percentage error is 43.25863419442185\n"
     ]
    }
   ],
   "source": [
    "#MHP\n",
    "mhp1=df.iloc[5][column_names[0]]\n",
    "mhp2=df.iloc[5][column_names[1]]\n",
    "mhp3=df.iloc[5][column_names[2]]\n",
    "\n",
    "def expected_value(participating,ratios):\n",
    "    return participating * (ratios / 100)\n",
    "\n",
    "ev_for_MHP=(expected_value(a,mhp1)+expected_value(b,mhp2)+expected_value(c,mhp3))       #\n",
    "\n",
    "def true_prop(expected,population):\n",
    "    true_proportion=((population)*expected)/(a+b+c)\n",
    "    ratio=(true_proportion/(population))*100\n",
    "    return ratio\n",
    "\n",
    "ratio_of_party= true_prop(ev_for_MHP,82_000_000)          #\n",
    "    \n",
    "print(\"MHP expected ratio is {}\".format(ratio_of_party))              #\n",
    "\n",
    "measured_value = ratio_of_party\n",
    "def percentage_error(true_value):\n",
    "    return (abs(measured_value-true_value)/abs(true_value))*100\n",
    "errorr=percentage_error(9.96)                                          #\n",
    "print(\"Percentage error is {}\".format(errorr))\n",
    "error_percentages.append(str(errorr))"
   ]
  },
  {
   "cell_type": "code",
   "execution_count": 55,
   "id": "12df3704",
   "metadata": {},
   "outputs": [
    {
     "name": "stdout",
     "output_type": "stream",
     "text": [
      "SP expected ratio is 3.3827591740665457\n",
      "Percentage error is 152.444714482578\n"
     ]
    }
   ],
   "source": [
    "#SP\n",
    "sp1=df.iloc[6][column_names[0]]\n",
    "sp2=df.iloc[6][column_names[1]]\n",
    "sp3=df.iloc[6][column_names[2]]\n",
    "\n",
    "def expected_value(participating,ratios):\n",
    "    return participating * (ratios / 100)\n",
    "\n",
    "ev_for_SP=(expected_value(a,sp1)+expected_value(b,sp2)+expected_value(c,sp3))       #\n",
    "\n",
    "def true_prop(expected,population):\n",
    "    true_proportion=((population)*expected)/(a+b+c)\n",
    "    ratio=(true_proportion/(population))*100\n",
    "    return ratio\n",
    "\n",
    "ratio_of_party= true_prop(ev_for_SP,82_000_000)          #\n",
    "    \n",
    "print(\"SP expected ratio is {}\".format(ratio_of_party))              #\n",
    "\n",
    "measured_value = ratio_of_party\n",
    "def percentage_error(true_value):\n",
    "    return (abs(measured_value-true_value)/abs(true_value))*100\n",
    "errorr=percentage_error(1.34)                                          #\n",
    "print(\"Percentage error is {}\".format(errorr))\n",
    "error_percentages.append(str(errorr))"
   ]
  },
  {
   "cell_type": "code",
   "execution_count": 56,
   "id": "bcfcba7c",
   "metadata": {},
   "outputs": [
    {
     "name": "stdout",
     "output_type": "stream",
     "text": [
      "['6.961847856776848', '7.036795124453704', '21.227186564728047', '6.461214611423204', '43.25863419442185', '152.444714482578']\n"
     ]
    }
   ],
   "source": [
    "print(error_percentages)"
   ]
  },
  {
   "cell_type": "code",
   "execution_count": 57,
   "id": "6c90427c",
   "metadata": {},
   "outputs": [
    {
     "name": "stdout",
     "output_type": "stream",
     "text": [
      "Average of error percentage: 39.565065472396945\n"
     ]
    }
   ],
   "source": [
    "ave_of_error_per=sum(float(i) for i in error_percentages)/len(error_percentages)\n",
    "print(\"Average of error percentage:\",ave_of_error_per)"
   ]
  },
  {
   "cell_type": "code",
   "execution_count": null,
   "id": "0f5942a3",
   "metadata": {},
   "outputs": [],
   "source": []
  },
  {
   "cell_type": "code",
   "execution_count": null,
   "id": "ddc27645",
   "metadata": {},
   "outputs": [],
   "source": []
  }
 ],
 "metadata": {
  "kernelspec": {
   "display_name": "Python 3 (ipykernel)",
   "language": "python",
   "name": "python3"
  },
  "language_info": {
   "codemirror_mode": {
    "name": "ipython",
    "version": 3
   },
   "file_extension": ".py",
   "mimetype": "text/x-python",
   "name": "python",
   "nbconvert_exporter": "python",
   "pygments_lexer": "ipython3",
   "version": "3.9.12"
  }
 },
 "nbformat": 4,
 "nbformat_minor": 5
}
